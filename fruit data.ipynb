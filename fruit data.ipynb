{
 "cells": [
  {
   "cell_type": "code",
   "execution_count": null,
   "metadata": {
    "id": "xW-5bQDG38vm"
   },
   "outputs": [],
   "source": [
    "#import\n",
    "import pandas as pd\n",
    "import requests\n",
    "from bs4 import BeautifulSoup\n",
    "import json\n",
    "from IPython.display import HTML\n",
    "import re"
   ]
  },
  {
   "cell_type": "code",
   "execution_count": null,
   "metadata": {
    "colab": {
     "base_uri": "https://localhost:8080/",
     "height": 337
    },
    "id": "GIziQACW4Tzg",
    "outputId": "c2c9e885-6ffa-441d-e2b5-a6615c26ff19"
   },
   "outputs": [],
   "source": [
    "#scrap data\n",
    "r=requests.get('https://www.wongnai.com/_api/v1.6/cooking/recipes/tags/fruit-recipes?_v=5.132&locale=th&page.number=1&page.size=1500')\n",
    "obj=json.loads(r.text)\n",
    "alldata = obj['data']['page']['entities']"
   ]
  },
  {
   "cell_type": "code",
   "execution_count": null,
   "metadata": {
    "id": "JhigChIv4drJ"
   },
   "outputs": [],
   "source": [
    "#data for dataframe\n",
    "menu=[]\n",
    "ing=[]\n",
    "view=[]\n",
    "link=[]\n",
    "img=[]\n",
    "for i in alldata:\n",
    "    menu.append(i['title'])\n",
    "    ing.append(i['ingredientKeywords'])\n",
    "    view.append(i['view'])\n",
    "    imgkey=i['photo']['smallUrl']\n",
    "    img.append(f'<img src=\"{imgkey}\" />')\n",
    "for i in alldata:\n",
    "    name=i['title']\n",
    "    k=i['url']\n",
    "    url=f'https://www.wongnai.com/{k}'\n",
    "    linkkey=f'<a href=\"{url}\">{name}</a>'\n",
    "    link.append(linkkey)"
   ]
  },
  {
   "cell_type": "code",
   "execution_count": null,
   "metadata": {},
   "outputs": [],
   "source": [
    "#first table\n",
    "table = pd.DataFrame({'menu': menu, 'ingredient': ing,\n",
    "                      'view': view, 'link':link, 'photo':img})"
   ]
  },
  {
   "cell_type": "code",
   "execution_count": null,
   "metadata": {},
   "outputs": [],
   "source": [
    "fruit_c=[]"
   ]
  },
  {
   "cell_type": "code",
   "execution_count": null,
   "metadata": {
    "id": "96ite1Vb4hek"
   },
   "outputs": [],
   "source": [
    "#fruit data med\n",
    "r=requests.get('https://medthai.com/%E0%B8%A3%E0%B8%B2%E0%B8%A2%E0%B8%8A%E0%B8%B7%E0%B9%88%E0%B8%AD%E0%B8%9C%E0%B8%A5%E0%B9%84%E0%B8%A1%E0%B9%89/')\n",
    "s=BeautifulSoup(r.text, 'lxml')\n",
    "#all_letter=['ก','ข','ค','ฆ','ง','จ','ฉ','ช','ซ','ฌ','ญ','ฎ','ฏ','ฐ','ฑ','ฒ','ณ','ด','ต','ถ','ท','ธ','น','บ','ป','ผ','ฝ','พ','ฟ','ภ','ม','ย','ร','ล','ว','ศ','ษ','ส','ห','ฬ','อ','ฮ']\n",
    "letter=['ก','ข','ค','ง','จ','ฉ','ช','ซ','ด','ต','ถ','ท','น','บ','ป','ผ','ฝ','พ','ฟ','ม','ย','ร','ล','ว','ส','ห','อ']\n",
    "mfruit_list=[]\n",
    "for i in letter:\n",
    "  key_letter=f'หมวด-{i}'\n",
    "  d=s.find('div', {'id':key_letter})\n",
    "  a_tags=d.find_all('a')\n",
    "  k=a_tags\n",
    "  for j in k:\n",
    "    mfruit_list.append(j['href'])\n",
    "\n",
    "mfruit =  [i.replace('/','') for i in mfruit_list]\n",
    "\n",
    "#scrap ชื่อผลไม้ wiki\n",
    "r=requests.get('https://th.wikipedia.org/wiki/%E0%B8%A3%E0%B8%B2%E0%B8%A2%E0%B8%81%E0%B8%B2%E0%B8%A3%E0%B8%9C%E0%B8%A5%E0%B9%84%E0%B8%A1%E0%B9%89')\n",
    "s=BeautifulSoup(r.text, 'lxml')\n",
    "d=s.find('div', {'id':'mw-content-text'})\n",
    "a_tags=d.find_all('a')\n",
    "tag=a_tags\n",
    "wfruit_list=[]\n",
    "wfruit=[]\n",
    "for i in range(20,199):\n",
    "  wfruit_list.append(tag[i]['title'])\n",
    "delete=['แก้ไขส่วน: ข','แก้ไขส่วน: ค','แก้ไขส่วน: ง','แก้ไขส่วน: ช','แก้ไขส่วน: ต','แก้ไขส่วน: ท','แก้ไขส่วน: น','แก้ไขส่วน: บ','แก้ไขส่วน: ฝ','แก้ไขส่วน: พ','แก้ไขส่วน: ม','แก้ไขส่วน: ร','แก้ไขส่วน: ล','แก้ไขส่วน: ส','แก้ไขส่วน: ห','แก้ไขส่วน: อ','หมวดหมู่:',' (พืช)',' (ผลไม้)']\n",
    "for i in wfruit_list:\n",
    "    for j in delete:\n",
    "        wfruit_list=[x.replace(j,'') for x in wfruit_list]\n",
    "for i in wfruit_list:\n",
    "    if len(i)!=0:\n",
    "        wfruit.append(i)\n",
    "\n",
    "#combine fruit\n",
    "fruit_c = list(set().union(wfruit,mfruit))\n",
    "fruit_c"
   ]
  },
  {
   "cell_type": "code",
   "execution_count": null,
   "metadata": {},
   "outputs": [],
   "source": [
    "#edit fruit\n",
    "#remove from fruit\n",
    "fruit_c=[k.replace('แอปเปิ้ลไซเดอร์','แอปเปิลไซเดอร์') for k in fruit_c]\n",
    "fruit_c=[k.replace('เบอร์รี่','เบอร์รี') for k in fruit_c]\n",
    "for i in fruit_c:\n",
    "    for j in ['สตรอเบอร์รี','สตรอเบอร์รี่','กีวี่','แอปเปิ้ล','เบอรี่','เชอร์รี่','ลูกพลับ']:\n",
    "        fruit_c=[k.replace(j,'') for k in fruit_c]\n",
    "fruit_c"
   ]
  },
  {
   "cell_type": "code",
   "execution_count": null,
   "metadata": {},
   "outputs": [],
   "source": [
    "#add fruit\n",
    "fruit=[]\n",
    "for i in fruit_c:\n",
    "    if len(i)>1:\n",
    "        fruit.append(i)\n",
    "for j in ['พีช','เมล่อน','สตรอว์เบอร์รี','มะยงชิด','เบอร์รี']:\n",
    "        fruit.append(j)\n",
    "fruit"
   ]
  },
  {
   "cell_type": "code",
   "execution_count": null,
   "metadata": {},
   "outputs": [],
   "source": [
    "#rectify word in table\n",
    "table_del=['น้ำตาล','น้ำตาลทราย','น้ำตาลปี๊บ','จากสวนหลังบ้าน','จากกาแฟ','แก้วกาแฟ','สไปรูลิน่า','flaxseeds จาก superfoods',' flax seeds จาก superfoods','spirulina powder จาก superfoods','kale powder จาก superfoods','chia seeds จาก superfoods','flaxseeds จาก superfoods','acai powder จาก superfoods','maca powerder จาก superfoods']\n",
    "table_straw=['สตรอว์เบอร์รี่','สตรอว์เบอรี่','สตรอว์เบอรี','สตรอเบอร์รี่','สตรอเบอร์รี','สตรอเบอรี่','สตรอเบอรี','สตอเบอรี่','สตอเบอรี','สตอเบอร์รี่','สตอเบอร์รี']\n",
    "for i in table_del:\n",
    "    table['ingredient']=table['ingredient'].str.replace(i,'')\n",
    "for i in table_straw:\n",
    "    table['ingredient']=table['ingredient'].str.replace(i,'สตรอว์เบอร์รี')\n",
    "table['ingredient']=table['ingredient'].str.replace('แอปเปิ้ล','แอปเปิล').str.replace('เบอรี่','เบอร์รี').str.replace('เบอร์รี่','เบอร์รี').str.replace('เปลือกแก้งมังกร','เปลือกแก้วมังกร').str.replace('กล้วยน้ำหว้า','กล้วยน้ำว้า').str.replace('สัปปะรด','สับปะรด').str.replace('อินทผาลัม','อินทผลัม').str.replace('กรีวี่','กีวี').str.replace('กีวี่','กีวี').str.replace('แตงไท','แตงไทย')\n",
    "table_ing=table['ingredient']\n",
    "table_ing"
   ]
  },
  {
   "cell_type": "code",
   "execution_count": null,
   "metadata": {},
   "outputs": [],
   "source": [
    "#ing_find=table['ingredient']\n",
    "ing_find=table_ing\n",
    "fruit_have=[]\n",
    "for i in ing_find:\n",
    "    list_fruit=''\n",
    "    for j in fruit:\n",
    "        x=re.findall(j,i)\n",
    "        if x != []:\n",
    "            if list_fruit=='':\n",
    "                list_fruit=j\n",
    "            else:\n",
    "                list_fruit=list_fruit+','+j\n",
    "    if list_fruit != '':\n",
    "        fruit_have.append(list_fruit)\n",
    "    else:\n",
    "        fruit_have.append('-')"
   ]
  },
  {
   "cell_type": "code",
   "execution_count": null,
   "metadata": {
    "id": "yPRbwLkt4wSj"
   },
   "outputs": [],
   "source": [
    "#create dataframe\n",
    "table = pd.DataFrame({'menu': menu, 'ingredient': table_ing,'fruit': fruit_have,\n",
    "                      'view': view, 'link':link, 'photo':img})\n",
    "pd.set_option('display.max_colwidth', -1)\n",
    "table['ingredient'] =  table['ingredient'].apply(lambda x: re.sub(r\"[^\\u0E00-\\u0E7Fa-zA-Z' ,]|^'|'$|''\",'', str(x))) #remove emoji\n",
    "HTML(table.to_html(escape=False))"
   ]
  },
  {
   "cell_type": "code",
   "execution_count": null,
   "metadata": {
    "scrolled": true
   },
   "outputs": [],
   "source": []
  },
  {
   "cell_type": "code",
   "execution_count": null,
   "metadata": {
    "scrolled": true
   },
   "outputs": [],
   "source": [
    "fcount=(table.set_index(['menu','ingredient','view','link','photo']).apply(lambda x: x.str.split(',').explode()).reset_index())\n",
    "fcount"
   ]
  },
  {
   "cell_type": "code",
   "execution_count": null,
   "metadata": {
    "scrolled": true
   },
   "outputs": [],
   "source": [
    "fcount['fruit'].value_counts().head(60)"
   ]
  },
  {
   "cell_type": "code",
   "execution_count": null,
   "metadata": {
    "scrolled": true
   },
   "outputs": [],
   "source": [
    "fcount['fruit'].value_counts().tail(60)"
   ]
  },
  {
   "cell_type": "code",
   "execution_count": null,
   "metadata": {
    "scrolled": true
   },
   "outputs": [],
   "source": [
    "fcount"
   ]
  },
  {
   "cell_type": "code",
   "execution_count": null,
   "metadata": {},
   "outputs": [],
   "source": [
    "#remove from table\n",
    "'น้ำตาล','น้ำตาลทราย','น้ำตาลปี๊บ','จากสวนหลังบ้าน','จากกาแฟ','แก้วกาแฟ','สไปรูลิน่า','flaxseeds จาก superfoods',' flax seeds จาก superfoods','spirulina powder จาก superfoods','kale powder จาก superfoods','chia seeds จาก superfoods','flaxseeds จาก superfoods','acai powder จาก superfoods','maca powerder จาก superfoods'\n",
    "'สตรอว์เบอร์รี่','สตรอว์เบอรี่','สตรอว์เบอรี','สตรอเบอร์รี่','สตรอเบอร์รี','สตรอเบอรี่','สตรอเบอรี','สตอเบอรี่','สตอเบอรี','สตอเบอร์รี่','สตอเบอร์รี'\n",
    "\n",
    "'เเอปเปิ้ล','แอปเปิล'\n",
    "'เบอรี่','เบอร์รี'\n",
    "'เบอร์รี่','เบอร์รี'\n",
    "'เปลือกแก้งมังกร','เปลือกแก้วมังกร'\n",
    "'กล้วยน้ำหว้า','กล้วยน้ำว้า'\n",
    "'สัปปะรด','สับปะรด'\n",
    "'อินทผาลัม','อินทผลัม'\n",
    "'กรีวี่','กีวี'\n",
    "'กีวี่','กีวี'\n",
    "'แตงไท','แตงไทย'\n",
    "\n",
    "#remove from fruit\n",
    "'สตรอเบอร์รี','สตรอเบอร์รี่','กีวี่','แอปเปิ้ล'\n",
    "'แอปเปิ้ลไซเดอร์','แอปเปิลไซเดอร์'\n",
    "'เบอรี่','เบอร์รี่','เบอร์รี'\n",
    "\n",
    "#append to fruit\n",
    "'พีช','ผลไม้','เมล่อน','สตรอว์เบอร์รี'"
   ]
  },
  {
   "cell_type": "code",
   "execution_count": null,
   "metadata": {
    "id": "kRk5OYsrSp3T"
   },
   "outputs": [],
   "source": [
    "from fuzzywuzzy import fuzz\n",
    "from fuzzywuzzy import process\n",
    "f_input=input()\n",
    "f_test=table['fruit']\n",
    "s_menu=[]\n",
    "s_ing=[]\n",
    "s_fruit_have=[]\n",
    "s_view=[]\n",
    "s_link=[]\n",
    "s_img=[]\n",
    "\n",
    "header=[s_menu,s_ing,s_fruit_have,s_view,s_link,s_img]\n",
    "header_a=['menu','ingredient','fruit','view','link','photo']\n",
    "for i in range(len(table)):\n",
    "    if fuzz.token_sort_ratio(f_test[i],f_input)>=70:\n",
    "        for j in range(6):\n",
    "            add=table[header_a[j]]\n",
    "            header[j].append(add[i])\n",
    "s_table = pd.DataFrame({'menu': s_menu, 'ingredient': s_ing,'fruit': s_fruit_have,\n",
    "                      'view': s_view, 'link':s_link, 'photo':s_img})\n",
    "table_rec=s_table.sort_values(['view'],ascending=False).reset_index()\n",
    "HTML(table_rec[['link','photo']].to_html(escape=False))"
   ]
  },
  {
   "cell_type": "code",
   "execution_count": null,
   "metadata": {},
   "outputs": [],
   "source": [
    "def simple():\n",
    "    f_input=input()\n",
    "    f_test=table['fruit']\n",
    "    s_menu=[]\n",
    "    s_ing=[]\n",
    "    s_fruit_have=[]\n",
    "    s_view=[]\n",
    "    s_link=[]\n",
    "    s_img=[]\n",
    "\n",
    "    header=[s_menu,s_ing,s_fruit_have,s_view,s_link,s_img]\n",
    "    header_a=['menu','ingredient','fruit','view','link','photo']\n",
    "    for i in range(len(table)):\n",
    "        if fuzz.token_sort_ratio(f_test[i],f_input)>=70:\n",
    "            for j in range(6):\n",
    "                add=table[header_a[j]]\n",
    "                header[j].append(add[i])\n",
    "    s_table = pd.DataFrame({'menu': s_menu, 'ingredient': s_ing,'fruit': s_fruit_have,\n",
    "                      'view': s_view, 'link':s_link, 'photo':s_img})\n",
    "    table_rec=s_table.sort_values(['view'],ascending=False).reset_index()\n",
    "    return HTML(table_rec[['link','photo']].to_html(escape=False))\n",
    "simple()"
   ]
  },
  {
   "cell_type": "code",
   "execution_count": null,
   "metadata": {},
   "outputs": [],
   "source": [
    "from ipywidgets import interact, interactive, fixed, interact_manual\n",
    "import ipywidgets as widgets\n",
    "def simple(kk):\n",
    "    f_input=kk\n",
    "    f_test=table['fruit']\n",
    "    s_menu=[]\n",
    "    s_ing=[]\n",
    "    s_fruit_have=[]\n",
    "    s_view=[]\n",
    "    s_link=[]\n",
    "    s_img=[]\n",
    "\n",
    "    header=[s_menu,s_ing,s_fruit_have,s_view,s_link,s_img]\n",
    "    header_a=['menu','ingredient','fruit','view','link','photo']\n",
    "    for i in range(len(table)):\n",
    "        if fuzz.token_sort_ratio(f_test[i],f_input)>=70:\n",
    "            for j in range(6):\n",
    "                add=table[header_a[j]]\n",
    "                header[j].append(add[i])\n",
    "    s_table = pd.DataFrame({'menu': s_menu, 'ingredient': s_ing,'fruit': s_fruit_have,\n",
    "                      'view': s_view, 'link':s_link, 'photo':s_img})\n",
    "    table_rec=s_table.sort_values(['view'],ascending=False).reset_index()\n",
    "    return HTML(table_rec[['link','photo']].to_html(escape=False))\n",
    "interact(simple, kk=['ลิ้นจี่','ลำไย','แอปเปิล']);"
   ]
  },
  {
   "cell_type": "code",
   "execution_count": null,
   "metadata": {
    "scrolled": false
   },
   "outputs": [],
   "source": [
    "import ipywidgets as widgets\n",
    "from IPython.core.display import display, HTML, Markdown, clear_output\n",
    "data = ['ลิ้นจี่', 'ลำไย', 'แอปเปิล', 'ทุเรียน','กล้วย','มะม่วง','มะพร้าว','เสาวรส','ทุเรียน','แตงโม','ข้าวโพด','มะนาว','ส้ม','สับปะรด','แอปเปิล','ฟักทอง','กระท้อน','มังคุด','สตรอว์เบอร์รี','-']\n",
    "checkboxes = [widgets.Checkbox(value=False, description=label) for label in data]\n",
    "vbox = widgets.VBox(children=checkboxes)\n",
    "button=widgets.Button(description='find')\n",
    "out = widgets.Output(layout={'border': '1px solid black'})\n",
    "\n",
    "def find(b):\n",
    "    selected_data = []\n",
    "    for i in range(len(checkboxes)):\n",
    "        if checkboxes[i].value == True:\n",
    "            selected_data.append(checkboxes[i].description)\n",
    "    f_input=selected_data\n",
    "    f_test=table['fruit']\n",
    "    s_menu=[]\n",
    "    s_ing=[]\n",
    "    s_fruit_have=[]\n",
    "    s_view=[]\n",
    "    s_link=[]\n",
    "    s_img=[]\n",
    "    header=[s_menu,s_ing,s_fruit_have,s_view,s_link,s_img]\n",
    "    header_a=['menu','ingredient','fruit','view','link','photo']\n",
    "    for i in range(len(table)):\n",
    "        if fuzz.partial_ratio(f_test[i],f_input)>=70:\n",
    "            for j in range(6):\n",
    "                add=table[header_a[j]]\n",
    "                header[j].append(add[i])\n",
    "    s_table = pd.DataFrame({'menu': s_menu, 'ingredient': s_ing,'fruit': s_fruit_have,\n",
    "                      'view': s_view, 'link':s_link, 'photo':s_img})\n",
    "    table_rec=s_table.sort_values(['view'],ascending=False).reset_index()\n",
    "    ttt = HTML(table_rec[['link','photo']].to_html(escape=False))\n",
    "    if len(s_table)>0:\n",
    "        with out:\n",
    "            out.clear_output()\n",
    "            #clear_output(True)\n",
    "            display(ttt)\n",
    "    else:\n",
    "        out.clear_output()\n",
    "        out.append_stdout('No recipe for you')\n",
    "\n",
    "    \n",
    "button.on_click(find)\n",
    "\n",
    "display(vbox,button,out)"
   ]
  },
  {
   "cell_type": "code",
   "execution_count": null,
   "metadata": {},
   "outputs": [],
   "source": []
  },
  {
   "cell_type": "code",
   "execution_count": null,
   "metadata": {},
   "outputs": [],
   "source": []
  },
  {
   "cell_type": "code",
   "execution_count": null,
   "metadata": {},
   "outputs": [],
   "source": []
  },
  {
   "cell_type": "code",
   "execution_count": null,
   "metadata": {
    "scrolled": false
   },
   "outputs": [],
   "source": [
    "import ipywidgets as widgets\n",
    "from IPython.core.display import display, HTML, Markdown, clear_output\n",
    "data = [\"ลิ้นจี่\", \"ลำไย\", \"แอปเปิล\", \"ทุเรียน\",'-']\n",
    "checkboxes = [widgets.Checkbox(value=False, description=label) for label in data]\n",
    "vbox = widgets.VBox(children=checkboxes)\n",
    "button=widgets.Button(description='find')\n",
    "out = widgets.Output(layout={'border': '1px solid black'})\n",
    "\n",
    "        \n",
    "def simple(fhave):\n",
    "    f_input=fhave\n",
    "    f_test=table['fruit']\n",
    "    s_menu=[]\n",
    "    s_ing=[]\n",
    "    s_fruit_have=[]\n",
    "    s_view=[]\n",
    "    s_link=[]\n",
    "    s_img=[]\n",
    "\n",
    "    header=[s_menu,s_ing,s_fruit_have,s_view,s_link,s_img]\n",
    "    header_a=['menu','ingredient','fruit','view','link','photo']\n",
    "    for i in range(len(table)):\n",
    "        if fuzz.partial_ratio(f_test[i],f_input)>=70:\n",
    "            for j in range(6):\n",
    "                add=table[header_a[j]]\n",
    "                header[j].append(add[i])\n",
    "    s_table = pd.DataFrame({'menu': s_menu, 'ingredient': s_ing,'fruit': s_fruit_have,\n",
    "                      'view': s_view, 'link':s_link, 'photo':s_img})\n",
    "    table_rec=s_table.sort_values(['view'],ascending=False).reset_index()\n",
    "    ttt = HTML(table_rec[['link','photo']].to_html(escape=False))\n",
    "    with out:\n",
    "        clear_output(True)\n",
    "        display(ttt)    \n",
    "\n",
    "def find(b):\n",
    "    selected_data = []\n",
    "    for i in range(len(checkboxes)):\n",
    "        if checkboxes[i].value == True:\n",
    "            selected_data.append(checkboxes[i].description)\n",
    "    simple(selected_data)\n",
    "\n",
    "button.on_click(find)\n",
    "display(vbox,button,out)"
   ]
  },
  {
   "cell_type": "code",
   "execution_count": null,
   "metadata": {},
   "outputs": [],
   "source": [
    "import pandas as pd                                                                                                                                \n",
    "\n",
    "state_df = pd.DataFrame({'state':['Smallมากๆ', 'Medium', 'High', 'Small', 'High','Max']})                                                                    \n",
    "\n",
    "state_df"
   ]
  },
  {
   "cell_type": "code",
   "execution_count": null,
   "metadata": {},
   "outputs": [],
   "source": [
    "replace_values = {'Small' : 'เล็ก', 'Medium' : 2, 'High' :3,'Max' : 3 }                                                                                          \n",
    "\n",
    "state_df = state_df.replace({\"state\": replace_values})                                                                                             \n",
    "\n",
    "state_df"
   ]
  },
  {
   "cell_type": "code",
   "execution_count": null,
   "metadata": {},
   "outputs": [],
   "source": [
    "state_df = state_df.replace('Small', '1').replace('Medium', '5').replace('High', '15')\n",
    "state_df"
   ]
  },
  {
   "cell_type": "code",
   "execution_count": null,
   "metadata": {},
   "outputs": [],
   "source": [
    "state_df.apply(lambda x: x.str.replace('Small', '1').str.replace('Medium', '5'))"
   ]
  },
  {
   "cell_type": "code",
   "execution_count": null,
   "metadata": {},
   "outputs": [],
   "source": [
    "words = ['how', 'much', 'is[br]', 'the', 'fish[br]', 'no', 'really']"
   ]
  },
  {
   "cell_type": "code",
   "execution_count": null,
   "metadata": {},
   "outputs": [],
   "source": [
    "words = [word.replace('[br]','<br />') for word in words]"
   ]
  },
  {
   "cell_type": "code",
   "execution_count": null,
   "metadata": {},
   "outputs": [],
   "source": [
    "words"
   ]
  },
  {
   "cell_type": "code",
   "execution_count": null,
   "metadata": {},
   "outputs": [],
   "source": []
  }
 ],
 "metadata": {
  "colab": {
   "collapsed_sections": [],
   "name": "fruit data formatted.ipynb",
   "provenance": []
  },
  "kernelspec": {
   "display_name": "Python 3",
   "language": "python",
   "name": "python3"
  },
  "language_info": {
   "codemirror_mode": {
    "name": "ipython",
    "version": 3
   },
   "file_extension": ".py",
   "mimetype": "text/x-python",
   "name": "python",
   "nbconvert_exporter": "python",
   "pygments_lexer": "ipython3",
   "version": "3.8.8"
  }
 },
 "nbformat": 4,
 "nbformat_minor": 1
}
